{
 "cells": [
  {
   "cell_type": "code",
   "execution_count": 2,
   "metadata": {},
   "outputs": [
    {
     "name": "stdout",
     "output_type": "stream",
     "text": [
      "speak:\n",
      "you said: 2 3\n"
     ]
    }
   ],
   "source": [
    "import speech_recognition as sr\n",
    "\n",
    "\n",
    "sound = \"english.wav\"\n",
    "r =sr.Recognizer() \n",
    "\n",
    "with sr.AudioFile(sound) as source:\n",
    "    r.adjust_for_ambient_noise(source)\n",
    "    print(\"speak:\")\n",
    "    audio = r. listen(source)\n",
    "    \n",
    "try:\n",
    "    txt = r.recognize_google(audio)\n",
    "    print(\"you said:\",txt)\n",
    "except sr.UnknownValueError:\n",
    "    print(\"could not be Understand audio\")\n",
    "except sr.requestError as e:\n",
    "    print(\"Could not request results;{0}\".format(e))\n",
    "\n",
    "\n"
   ]
  },
  {
   "cell_type": "code",
   "execution_count": null,
   "metadata": {},
   "outputs": [],
   "source": []
  }
 ],
 "metadata": {
  "kernelspec": {
   "display_name": "Python 3",
   "language": "python",
   "name": "python3"
  },
  "language_info": {
   "codemirror_mode": {
    "name": "ipython",
    "version": 3
   },
   "file_extension": ".py",
   "mimetype": "text/x-python",
   "name": "python",
   "nbconvert_exporter": "python",
   "pygments_lexer": "ipython3",
   "version": "3.7.4"
  }
 },
 "nbformat": 4,
 "nbformat_minor": 2
}
