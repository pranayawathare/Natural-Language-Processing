{
 "cells": [
  {
   "cell_type": "code",
   "execution_count": 2,
   "metadata": {},
   "outputs": [
    {
     "name": "stdout",
     "output_type": "stream",
     "text": [
      "Collecting package metadata (current_repodata.json): ...working... done\n",
      "Solving environment: ...working... done\n",
      "\n",
      "## Package Plan ##\n",
      "\n",
      "  environment location: C:\\Users\\Admin\\Anaconda3\n",
      "\n",
      "  added / updated specs:\n",
      "    - speechrecognition\n",
      "\n",
      "\n",
      "The following NEW packages will be INSTALLED:\n",
      "\n",
      "  python_abi         conda-forge/win-64::python_abi-3.7-1_cp37m\n",
      "  speechrecognition  conda-forge/win-64::speechrecognition-3.7.1-py37h03978a9_3\n",
      "\n",
      "The following packages will be SUPERSEDED by a higher-priority channel:\n",
      "\n",
      "  conda              pkgs/main::conda-4.10.1-py37haa95532_1 --> conda-forge::conda-4.10.1-py37h03978a9_0\n",
      "\n",
      "\n",
      "Preparing transaction: ...working... done\n",
      "Verifying transaction: ...working... done\n",
      "Executing transaction: ...working... done\n",
      "\n",
      "Note: you may need to restart the kernel to use updated packages.\n"
     ]
    }
   ],
   "source": [
    "conda install -c conda-forge speechrecognition"
   ]
  },
  {
   "cell_type": "code",
   "execution_count": null,
   "metadata": {},
   "outputs": [],
   "source": []
  },
  {
   "cell_type": "code",
   "execution_count": 8,
   "metadata": {},
   "outputs": [
    {
     "name": "stdout",
     "output_type": "stream",
     "text": [
      "Collecting package metadata (current_repodata.json): ...working... done\n",
      "Solving environment: ...working... done\n",
      "\n",
      "# All requested packages already installed.\n",
      "\n",
      "\n",
      "Note: you may need to restart the kernel to use updated packages.\n"
     ]
    }
   ],
   "source": [
    "conda install -c anaconda pyaudio"
   ]
  },
  {
   "cell_type": "code",
   "execution_count": null,
   "metadata": {},
   "outputs": [],
   "source": []
  },
  {
   "cell_type": "code",
   "execution_count": 1,
   "metadata": {},
   "outputs": [],
   "source": [
    "import speech_recognition as sr\n",
    "import webbrowser"
   ]
  },
  {
   "cell_type": "code",
   "execution_count": 3,
   "metadata": {},
   "outputs": [
    {
     "name": "stdout",
     "output_type": "stream",
     "text": [
      "speak:\n",
      "you said: hi my name is Tom\n"
     ]
    }
   ],
   "source": [
    "r =sr.Recognizer() \n",
    "with sr.Microphone () as source:\n",
    "    print(\"speak:\")\n",
    "    audio = r. listen(source)\n",
    "    \n",
    "try:\n",
    "    txt = r.recognize_google(audio)\n",
    "    print(\"you said:\",txt)\n",
    "except sr.UnknownValueError:\n",
    "    print(\"could not be Understand audio\")\n",
    "except sr.requestError as e:\n",
    "    print(\"Could not request results;{0}\".format(e))\n",
    "\n",
    "\n"
   ]
  },
  {
   "cell_type": "code",
   "execution_count": 27,
   "metadata": {},
   "outputs": [
    {
     "name": "stdout",
     "output_type": "stream",
     "text": [
      "Nice t meet you, thunder\n"
     ]
    }
   ],
   "source": [
    "#used todays date \n",
    "import datetime\n",
    "\n",
    "#create tuple of phrase and intents\n",
    "\n",
    "intentsList = [('my name is ','NAME'),\n",
    "              (\"my names\" ,'NAME'),\n",
    "              (\"Todays date\",'DATE'),\n",
    "              ('day is it today ','DATE')\n",
    "              ]\n",
    "# if a phrase is in the next , then respond using the appropriate intent\n",
    "intentUnknown = True\n",
    "for phrase , intent in intentsList:\n",
    "    if phrase in txt:\n",
    "        \n",
    "        # for name intent, get user name and give a greeting\n",
    "        if intent == 'NAME':\n",
    "            name = txt.split(phrase)[1]\n",
    "            name = name.strip()\n",
    "            print('Nice to meet you,', name)\n",
    "            intentUnknown = False\n",
    "            break\n",
    "        # for date intent , print out todays date\n",
    "        elif intent =='DATE':\n",
    "            now = datetime.datetime.now()\n",
    "            print('Today is :'), now.strftime(\"%m-%d-%y\")\n",
    "            intentunknown = False\n",
    "if intentUnknown:\n",
    "    print('you said:',txt)\n",
    "    print('i do not know what that thats means')\n",
    "    print()"
   ]
  },
  {
   "cell_type": "code",
   "execution_count": null,
   "metadata": {},
   "outputs": [],
   "source": []
  },
  {
   "cell_type": "code",
   "execution_count": null,
   "metadata": {},
   "outputs": [],
   "source": []
  }
 ],
 "metadata": {
  "kernelspec": {
   "display_name": "Python 3",
   "language": "python",
   "name": "python3"
  },
  "language_info": {
   "codemirror_mode": {
    "name": "ipython",
    "version": 3
   },
   "file_extension": ".py",
   "mimetype": "text/x-python",
   "name": "python",
   "nbconvert_exporter": "python",
   "pygments_lexer": "ipython3",
   "version": "3.7.4"
  }
 },
 "nbformat": 4,
 "nbformat_minor": 2
}
